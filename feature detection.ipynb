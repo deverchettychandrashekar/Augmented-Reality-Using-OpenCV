{
 "cells": [
  {
   "cell_type": "code",
   "execution_count": 2,
   "id": "b0d6e4f4-afc0-436c-a0bb-e290e8eb84b6",
   "metadata": {},
   "outputs": [
    {
     "data": {
      "text/plain": [
       "-1"
      ]
     },
     "execution_count": 2,
     "metadata": {},
     "output_type": "execute_result"
    }
   ],
   "source": [
    "import cv2\n",
    "import numpy as np\n",
    "\n",
    "#Getting the Image ready for feature detection\n",
    "input_image = cv2.imread('C:/Users/HP/OneDrive/Pictures/Camera imports/2024-01-22/DSCN0098.JPG')\n",
    "input_image = cv2.resize(input_image, (400,550),interpolation=cv2.INTER_AREA)\n",
    "gray_image = cv2.cvtColor(input_image, cv2.COLOR_BGR2GRAY)\n",
    "# Initiate ORB object\n",
    "orb = cv2.ORB_create(nfeatures=1000)\n",
    "\n",
    "# find the keypoints with ORB\n",
    "keypoints, descriptors = orb.detectAndCompute(gray_image, None)\n",
    "\n",
    "# draw only the location of the keypoints without size or\n",
    "final_keypoints = cv2.drawKeypoints(gray_image, keypoints,input_image,(0,255,0))\n",
    "\n",
    "cv2.imshow('ORB keypoints', final_keypoints)\n",
    "cv2.waitKey()"
   ]
  },
  {
   "cell_type": "code",
   "execution_count": null,
   "id": "0f95f57d-ace2-4540-8bc5-2cffc02e966f",
   "metadata": {},
   "outputs": [],
   "source": []
  }
 ],
 "metadata": {
  "kernelspec": {
   "display_name": "Python 3 (ipykernel)",
   "language": "python",
   "name": "python3"
  },
  "language_info": {
   "codemirror_mode": {
    "name": "ipython",
    "version": 3
   },
   "file_extension": ".py",
   "mimetype": "text/x-python",
   "name": "python",
   "nbconvert_exporter": "python",
   "pygments_lexer": "ipython3",
   "version": "3.12.4"
  }
 },
 "nbformat": 4,
 "nbformat_minor": 5
}
